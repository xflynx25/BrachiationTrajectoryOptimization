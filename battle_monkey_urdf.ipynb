{
 "cells": [
  {
   "cell_type": "code",
   "metadata": {
    "cell_id": "6c74c9b216694a06967dde5efcec49d6",
    "tags": [],
    "deepnote_to_be_reexecuted": false,
    "source_hash": "fed47f51",
    "execution_start": 1652195465348,
    "execution_millis": 1029,
    "deepnote_cell_type": "code",
    "deepnote_cell_height": 278.921875
   },
   "source": "# python libraries\nimport numpy as np\nfrom IPython.display import HTML, display\n\n# pydrake imports\nfrom pydrake.all import (AddMultibodyPlantSceneGraph, DiagramBuilder,\n                         LinearQuadraticRegulator, Parser, StartMeshcat,\n                         PlanarSceneGraphVisualizer, Simulator, Linearize,\n                         FindResourceOrThrow,\n                         MeshcatVisualizerCpp, MeshcatVisualizerParams, \n                         RigidTransform, Role, RollPitchYaw, Simulator, \n                         JointSliders)",
   "execution_count": null,
   "outputs": []
  },
  {
   "cell_type": "code",
   "metadata": {
    "cell_id": "856ee733e95b4a54be08c4280aac1083",
    "tags": [],
    "deepnote_to_be_reexecuted": false,
    "source_hash": "c5b7476b",
    "execution_start": 1652195466387,
    "execution_millis": 59,
    "deepnote_cell_type": "code",
    "deepnote_cell_height": 129.921875
   },
   "source": "#start visualizer\nmeshcat = StartMeshcat()",
   "execution_count": null,
   "outputs": [
    {
     "name": "stdout",
     "text": "Meshcat is now available at https://f68aa2bd-d5e5-4beb-aa3e-489f3e8c3132.deepnoteproject.com\n",
     "output_type": "stream"
    }
   ]
  },
  {
   "cell_type": "code",
   "metadata": {
    "tags": [],
    "cell_id": "7362f172-fb4b-4b47-9f44-804fbe51d50e",
    "deepnote_to_be_reexecuted": false,
    "source_hash": "6f1da224",
    "execution_start": 1652195466391,
    "execution_millis": 15,
    "deepnote_cell_type": "code",
    "deepnote_cell_height": 548.921875
   },
   "source": "#Monkey bar urdf skeleton\nmonkey_bar = \"\"\" \n    <link name=\"barNUMBER\">\n        <inertial>\n            <origin xyz=\"REPLACE 0 0\" />\n            <mass value=\"1\" />\n        </inertial>\n\n        <visual>\n            <origin xyz=\"REPLACE 0 0\" />\n            <geometry>\n                <box size=\".2 .2 .2\" />\n            </geometry>\n            <material>\n                <color rgba=\"0 0 0 1\" />\n            </material>\n        </visual>\n    </link>\n\"\"\"\n\nmonkey_bar_joint = \"\"\"\n    <joint name=\"bar_jointNUMBER\" type=\"fixed\">\n        <parent link=\"world\" />\n        <child link=\"barNUMBER\" />\n        <origin xyz=\"0 0 0\" />\n    </joint>\n\"\"\"",
   "execution_count": null,
   "outputs": []
  },
  {
   "cell_type": "code",
   "metadata": {
    "cell_id": "924d42d7856447238c0fa096661f8b08",
    "tags": [],
    "deepnote_to_be_reexecuted": false,
    "source_hash": "6df6ca70",
    "execution_start": 1652195466406,
    "execution_millis": 1,
    "deepnote_cell_type": "code",
    "deepnote_cell_height": 1106.9375
   },
   "source": "#monkey links\nmonkey_grasp_link = \"\"\"\n    <link name=\"grasp_link\">\n        <inertial>\n            <origin xyz=\"0 0 -.5\" />\n            <mass value=\".2\" />\n        </inertial>\n\n        <visual>\n            <origin xyz=\"0 0 -.5\" />\n            <geometry>\n                <sphere radius=\".05\" />\n            </geometry>\n            <material>\n                <color rgba=\"1 0 1 1\" />\n            </material>\n        </visual>\n\n        <visual>\n            <origin xyz=\"0 0 -.5\" />\n            <geometry>\n                <cylinder radius=\".02\" length=\"1\" />\n            </geometry>\n            <material>\n                <color rgba=\"0 0 1 1\" />\n            </material>\n        </visual>\n    </link>\n\"\"\"\n\nmonkey_swing_link = \"\"\"\n    <link name=\"swing_link\">\n        <inertial>\n            <origin xyz=\"0 0 .5\" />\n            <mass value=\".2\" />\n        </inertial>\n\n        <visual>\n            <origin xyz=\"0 0 .5\" />\n            <geometry>\n                <sphere radius=\".05\" />\n            </geometry>\n            <material>\n                <color rgba=\"1 1 0 1\" />\n            </material>\n        </visual>\n\n        <visual>\n            <origin xyz=\"0 0 .5\" />\n            <geometry>\n                <cylinder radius=\".02\" length=\"1\" />\n            </geometry>\n            <material>\n                <color rgba=\"1 0 0 1\" />\n            </material>\n        </visual>\n    </link>\n\"\"\"",
   "execution_count": null,
   "outputs": []
  },
  {
   "cell_type": "code",
   "metadata": {
    "cell_id": "c6111eb3f94a4a4d8d72e7a67fc65090",
    "tags": [],
    "deepnote_to_be_reexecuted": false,
    "source_hash": "a38f6454",
    "execution_start": 1652195466407,
    "execution_millis": 1,
    "deepnote_cell_type": "code",
    "deepnote_cell_height": 764.921875
   },
   "source": "#monkey body base\nmonkey_base = \"\"\"\n    <link name=\"base\">\n        <inertial>\n            <origin xyz=\"0 0 0\" />\n            <mass value=\"1\" />\n        </inertial>\n\n        <visual>\n            <origin xyz=\"0 0 0\" />\n            <geometry>\n                <box size=\"0.3 0.3 0.3\" />\n            </geometry>\n            <material>\n                <color rgba=\"0 1 0 1\" />\n            </material>\n        </visual>\n    </link>\n\"\"\"\n\nbase_joint_x = \"\"\"\n    <link name=\"floating_base_x\" />\n\n    <joint name=\"base_x\" type=\"prismatic\">\n        <parent link=\"world\" />\n        <child link=\"floating_base_x\" />\n        <axis xyz=\"1 0 0\" />\n    </joint>\n\"\"\"\n\nbase_joint_z = \"\"\"\n    <link name=\"floating_base_z\" />\n\n    <joint name=\"base_z\" type=\"prismatic\">\n        <parent link=\"floating_base_x\" />\n        <child link=\"base\" />\n        <axis xyz=\"0 0 1\" />\n    </joint>\n\"\"\"",
   "execution_count": null,
   "outputs": []
  },
  {
   "cell_type": "code",
   "metadata": {
    "cell_id": "f53177609a6b46ff92432a0b080914ce",
    "tags": [],
    "deepnote_to_be_reexecuted": false,
    "source_hash": "c5e3260d",
    "execution_start": 1652195466410,
    "execution_millis": 2,
    "deepnote_cell_type": "code",
    "deepnote_cell_height": 890.921875
   },
   "source": "#joints\nbase_grasp_joint = \"\"\"\n    <joint name=\"base_grasp_joint\" type=\"continuous\">\n        <parent link=\"base\" />\n        <child link=\"grasp_link\" />\n        <axis xyz=\"0 -1 0\" />\n        <origin xyz=\"0 0 -1\" />\n    </joint>\n\"\"\"\nmonkey_joints = \"\"\"\n    <link name=\"floating_base_x\" />\n\n    <joint name=\"base_x\" type=\"prismatic\">\n        <parent link=\"world\" />\n        <child link=\"floating_base_x\" />\n        <axis xyz=\"1 0 0\" />\n    </joint>\n\n    <link name=\"floating_base_z\" />\n\n    <joint name=\"base_z\" type=\"prismatic\">\n        <parent link=\"floating_base_x\" />\n        <child link=\"floating_base_z\" />\n        <axis xyz=\"0 0 1\" />\n    </joint>\n\n    <joint name=\"grasp_joint\" type=\"continuous\">\n        <parent link=\"floating_base_z\" />\n        <child link=\"grasp_link\" />\n        <axis xyz=\"0 -1 0\" />\n        <origin xyz=\"0 0 0\" />\n    </joint>\n\n    <joint name=\"base_grasp_joint\" type=\"fixed\">\n        <parent link=\"grasp_link\" />\n        <child link=\"base\" />\n        <origin xyz=\"0 0 -1\" />\n    </joint>\n\n    <joint name=\"base_swing_joint\" type=\"continuous\">\n        <parent link=\"base\" />\n        <child link=\"swing_link\" />\n        <axis xyz=\"0 -1 0\" />\n        <origin xyz=\"0 0 0\" />\n    </joint>\n\"\"\"",
   "execution_count": null,
   "outputs": []
  },
  {
   "cell_type": "code",
   "metadata": {
    "cell_id": "bab8e27819b545619bad4035e6a5cee0",
    "tags": [],
    "deepnote_to_be_reexecuted": false,
    "source_hash": "f4e8d75f",
    "execution_start": 1652195466414,
    "execution_millis": 3,
    "owner_user_id": "fa17b540-8ac0-43cd-994d-e7599e866df2",
    "deepnote_cell_type": "code",
    "deepnote_cell_height": 2996.9375
   },
   "source": "#compass gait bot urdf\ncompass_gait_urdf = \"\"\"\n<?xml version=\"1.0\" ?>\n\n<robot name=\"compass_gait\">\n\n  <!-- ground -->\n  <!-- just for visualization, it is welded to world -->\n\n  <link name=\"ground\">\n\n    <visual>\n      <origin xyz=\"0 0 -.25\" rpy=\"0 0 0\"/>\n      <geometry>\n        <box size=\"10 1 .5\" />\n      </geometry>\n      <material name=\"green\">\n        <color rgba=\"0 1 0 1\" />\n      </material>\n    </visual>\n\n  </link>\n\n  <joint name=\"ground_is_world\" type=\"fixed\">\n\n    <parent link=\"world\" />\n    <child link=\"ground\" />\n    <!-- slope of the ramp here -->\n    <origin xyz=\"0 0 0\" rpy=\"0 .04 0\"/>\n\n  </joint>\n\n  <!-- floating base for stance foot -->\n\n  <link name=\"floating_base_x\" />\n\n  <joint name=\"floating_base_x\" type=\"prismatic\">\n\n    <parent link=\"ground\"/>\n    <child link=\"floating_base_x\"/>\n    <axis xyz=\"1 0 0\"/>\n\n  </joint>\n\n  <link name=\"floating_base_z\" />\n\n  <joint name=\"floating_base_z\" type=\"prismatic\">\n\n    <parent link=\"floating_base_x\"/>\n    <child link=\"floating_base_z\"/>\n    <axis xyz=\"0 0 1\"/>\n\n  </joint>\n\n  <!-- stance leg -->\n\n  <link name=\"stance_leg\">\n\n    <inertial>\n      <origin xyz=\"0 0 .5\"/>\n      <mass value=\".1\"/>\n    </inertial>\n\n    <visual>\n      <origin xyz=\"0 0 .5\"/>\n      <geometry>\n        <sphere radius=\".05\"/>\n      </geometry>\n      <material>\n        <color rgba=\"1 0 0 1\"/>\n      </material>\n    </visual>\n\n    <visual>\n      <origin xyz=\"0 0 .5\"/>\n      <geometry>\n        <cylinder length=\"1\" radius=\".01\"/>\n      </geometry>\n      <material>\n        <color rgba=\"1 0 0 1\"/>\n      </material>\n    </visual>\n\n  </link>\n\n  <joint name=\"floating_base_y\" type=\"continuous\">\n\n    <parent link=\"floating_base_z\"/>\n    <child link=\"stance_leg\"/>\n    <axis xyz=\"0 -1 0\"/>\n\n  </joint>\n\n  <!-- body, welded to stance leg -->\n\n  <link name=\"body\">\n\n    <inertial>\n      <origin xyz=\"0 0 1\"/>\n      <mass value=\"1\"/>\n    </inertial>\n\n    <visual>\n      <origin xyz=\"0 0 0\"/>\n      <geometry>\n        <sphere radius=\".1\"/>\n      </geometry>\n      <material>\n        <color rgba=\"1 1 1 1\"/>\n      </material>\n    </visual>\n\n  </link>\n\n  <joint name=\"body_on_stance_leg\" type=\"fixed\">\n\n    <parent link=\"stance_leg\" />\n    <child link=\"body\" />\n    <origin xyz=\"0 0 1\"/>\n\n  </joint>\n\n  <!-- swing leg -->\n\n  <link name=\"swing_leg\">\n\n    <inertial>\n      <origin xyz=\"0 0 -.5\"/>\n      <mass value=\".1\"/>\n    </inertial>\n\n    <visual>\n      <origin xyz=\"0 0 -.5\"/>\n      <geometry>\n        <sphere radius=\".05\"/>\n      </geometry>\n      <material>\n        <color rgba=\"0 0 1 1\"/>\n      </material>\n    </visual>\n\n    <visual>\n      <origin xyz=\"0 0 -.5\"/>\n      <geometry>\n        <cylinder length=\"1\" radius=\".01\"/>\n      </geometry>\n      <material>\n        <color rgba=\"0 0 1 1\"/>\n      </material>\n    </visual>\n\n  </link>\n\n  <joint name=\"hip_pin\" type=\"continuous\">\n\n    <parent link=\"body\"/>\n    <child link=\"swing_leg\"/>\n    <axis xyz=\"0 -1 0\"/>\n\n  </joint>\n\n</robot>\n\"\"\"",
   "execution_count": null,
   "outputs": []
  },
  {
   "cell_type": "code",
   "metadata": {
    "cell_id": "a81fabfc062b411eada9ad4087b891e1",
    "tags": [],
    "deepnote_to_be_reexecuted": false,
    "source_hash": "196d1d19",
    "execution_start": 1652195466460,
    "execution_millis": 0,
    "owner_user_id": "31d70f3b-bcad-4248-a36c-db6d87ecfa83",
    "deepnote_cell_type": "code",
    "deepnote_cell_height": 494.921875
   },
   "source": "def create_monkey_urdf(bar_params, link_params=None):\n    #bar params is [0, b_0, b_c]\n    \n    #urdf header and ender\n    urdf = \"\"\"<?xml version=\"1.0\"?>\\n<robot name=\"BattleMonkey\">BASE</robot>\"\"\"\n    # cart base of the robot\n    urdf = urdf.replace(\"BASE\", monkey_base + \"BAR\")\n\n    bar_params[1] = -bar_params[1]\n    for i in range(3):\n        bar_x = bar_params[i]\n        urdf = urdf.replace(\"BAR\", monkey_bar.replace(\"NUMBER\", str(i)).replace(\"REPLACE\", str(bar_x), 2) + \"BAR\")\n    urdf = urdf.replace(\"BAR\", monkey_grasp_link + \"BAR\")\n    urdf = urdf.replace(\"BAR\", monkey_swing_link + \"JOINT\")\n    #urdf = urdf.replace(\"BAR\", \"JOINT\")\n\n    for i in range(3):\n        urdf = urdf.replace(\"JOINT\", monkey_bar_joint.replace(\"NUMBER\", str(i), 2) + \"JOINT\")\n    \n    #urdf = urdf.replace(\"JOINT\", base_joint_x + \"JOINT\")\n    #urdf = urdf.replace(\"JOINT\", base_joint_z)\n    urdf = urdf.replace(\"JOINT\", monkey_joints)\n\n    return urdf",
   "execution_count": null,
   "outputs": []
  },
  {
   "cell_type": "code",
   "metadata": {
    "cell_id": "857aea66b135457f9675d97cbe724973",
    "tags": [],
    "deepnote_to_be_reexecuted": false,
    "source_hash": "b66011c1",
    "execution_start": 1652195466460,
    "execution_millis": 24,
    "deepnote_cell_type": "code",
    "deepnote_cell_height": 754.90625
   },
   "source": "#create urdf\nbar_params = [0, 1, 1.5]\nmonkey_urdf = create_monkey_urdf(bar_params)\nprint(monkey_urdf)",
   "execution_count": null,
   "outputs": [
    {
     "name": "stdout",
     "text": "<?xml version=\"1.0\"?>\n<robot name=\"BattleMonkey\">\n    <link name=\"base\">\n        <inertial>\n            <origin xyz=\"0 0 0\" />\n            <mass value=\"1\" />\n        </inertial>\n\n        <visual>\n            <origin xyz=\"0 0 0\" />\n            <geometry>\n                <box size=\"0.3 0.3 0.3\" />\n            </geometry>\n            <material>\n                <color rgba=\"0 1 0 1\" />\n            </material>\n        </visual>\n    </link>\n \n    <link name=\"bar0\">\n        <inertial>\n            <origin xyz=\"0 0 0\" />\n            <mass value=\"1\" />\n        </inertial>\n\n        <visual>\n            <origin xyz=\"0 0 0\" />\n            <geometry>\n                <box size=\".2 .2 .2\" />\n            </geometry>\n            <material>\n                <color rgba=\"0 0 0 1\" />\n            </material>\n        </visual>\n    </link>\n \n    <link name=\"bar1\">\n        <inertial>\n            <origin xyz=\"-1 0 0\" />\n            <mass value=\"1\" />\n        </inertial>\n\n        <visual>\n            <origin xyz=\"-1 0 0\" />\n            <geometry>\n                <box size=\".2 .2 .2\" />\n            </geometry>\n            <material>\n                <color rgba=\"0 0 0 1\" />\n            </material>\n        </visual>\n    </link>\n \n    <link name=\"bar2\">\n        <inertial>\n            <origin xyz=\"1.5 0 0\" />\n            <mass value=\"1\" />\n        </inertial>\n\n        <visual>\n            <origin xyz=\"1.5 0 0\" />\n            <geometry>\n                <box size=\".2 .2 .2\" />\n            </geometry>\n            <material>\n                <color rgba=\"0 0 0 1\" />\n            </material>\n        </visual>\n    </link>\n\n    <link name=\"grasp_link\">\n        <inertial>\n            <origin xyz=\"0 0 -.5\" />\n            <mass value=\".2\" />\n        </inertial>\n\n        <visual>\n            <origin xyz=\"0 0 -.5\" />\n            <geometry>\n                <sphere radius=\".05\" />\n            </geometry>\n            <material>\n                <color rgba=\"1 0 1 1\" />\n            </material>\n        </visual>\n\n        <visual>\n            <origin xyz=\"0 0 -.5\" />\n            <geometry>\n                <cylinder radius=\".02\" length=\"1\" />\n            </geometry>\n            <material>\n                <color rgba=\"0 0 1 1\" />\n            </material>\n        </visual>\n    </link>\n\n    <link name=\"swing_link\">\n        <inertial>\n            <origin xyz=\"0 0 .5\" />\n            <mass value=\".2\" />\n        </inertial>\n\n        <visual>\n            <origin xyz=\"0 0 .5\" />\n            <geometry>\n                <sphere radius=\".05\" />\n            </geometry>\n            <material>\n                <color rgba=\"1 1 0 1\" />\n            </material>\n        </visual>\n\n        <visual>\n            <origin xyz=\"0 0 .5\" />\n            <geometry>\n                <cylinder radius=\".02\" length=\"1\" />\n            </geometry>\n            <material>\n                <color rgba=\"1 0 0 1\" />\n            </material>\n        </visual>\n    </link>\n\n    <joint name=\"bar_joint0\" type=\"fixed\">\n        <parent link=\"world\" />\n        <child link=\"bar0\" />\n        <origin xyz=\"0 0 0\" />\n    </joint>\n\n    <joint name=\"bar_joint1\" type=\"fixed\">\n        <parent link=\"world\" />\n        <child link=\"bar1\" />\n        <origin xyz=\"0 0 0\" />\n    </joint>\n\n    <joint name=\"bar_joint2\" type=\"fixed\">\n        <parent link=\"world\" />\n        <child link=\"bar2\" />\n        <origin xyz=\"0 0 0\" />\n    </joint>\n\n    <link name=\"floating_base_x\" />\n\n    <joint name=\"base_x\" type=\"prismatic\">\n        <parent link=\"world\" />\n        <child link=\"floating_base_x\" />\n        <axis xyz=\"1 0 0\" />\n    </joint>\n\n    <link name=\"floating_base_z\" />\n\n    <joint name=\"base_z\" type=\"prismatic\">\n        <parent link=\"floating_base_x\" />\n        <child link=\"floating_base_z\" />\n        <axis xyz=\"0 0 1\" />\n    </joint>\n\n    <joint name=\"grasp_joint\" type=\"continuous\">\n        <parent link=\"floating_base_z\" />\n        <child link=\"grasp_link\" />\n        <axis xyz=\"0 -1 0\" />\n        <origin xyz=\"0 0 0\" />\n    </joint>\n\n    <joint name=\"base_grasp_joint\" type=\"fixed\">\n        <parent link=\"grasp_link\" />\n        <child link=\"base\" />\n        <origin xyz=\"0 0 -1\" />\n    </joint>\n\n    <joint name=\"base_swing_joint\" type=\"continuous\">\n        <parent link=\"base\" />\n        <child link=\"swing_link\" />\n        <axis xyz=\"0 -1 0\" />\n        <origin xyz=\"0 0 0\" />\n    </joint>\n</robot>\n",
     "output_type": "stream"
    }
   ]
  },
  {
   "cell_type": "code",
   "metadata": {
    "cell_id": "9c188b6bf93f4a5290f09cf9d31b6a1a",
    "tags": [],
    "deepnote_to_be_reexecuted": false,
    "source_hash": "11c04748",
    "execution_start": 1652195466476,
    "execution_millis": 200,
    "deepnote_cell_type": "code",
    "deepnote_cell_height": 747.078125
   },
   "source": "meshcat.Delete()\nmeshcat.DeleteAddedControls()\nbuilder = DiagramBuilder()\n\nplant, scene_graph = AddMultibodyPlantSceneGraph(builder, time_step=0.001)\n\n# Load the file into the plant/scene_graph.\nparser = Parser(plant)\n#for name, directory in package_paths.items():\n#    parser.package_map().Add(name, directory)\nparser.AddModelFromString(monkey_urdf, \"urdf\")\n#parser.AddModelFromString(compass_gait_urdf, \"urdf\")\n\nplant.Finalize()\n\n# Add two visualizers, one to publish the \"visual\" geometry, and one to\n# publish the \"collision\" geometry.\nvisual = MeshcatVisualizerCpp.AddToBuilder(builder, scene_graph, meshcat,\n    MeshcatVisualizerParams(role=Role.kPerception, prefix=\"visual\"))\n#collision = MeshcatVisualizerCpp.AddToBuilder(\n#    builder, scene_graph, meshcat,\n#    MeshcatVisualizerParams(role=Role.kProximity, prefix=\"collision\"))\n# Disable the collision geometry at the start; it can be enabled by the\n# checkbox in the meshcat controls.\n#meshcat.SetProperty(\"collision\", \"visible\", False)\n\nsliders = builder.AddSystem(JointSliders(meshcat, plant))\n\ndiagram = builder.Build()\nsliders.Run(diagram)",
   "execution_count": null,
   "outputs": [
    {
     "output_type": "error",
     "ename": "KernelInterrupted",
     "evalue": "Execution interrupted by the Jupyter kernel.",
     "traceback": [
      "\u001b[0;31m---------------------------------------------------------------------------\u001b[0m",
      "\u001b[0;31mKernelInterrupted\u001b[0m: Execution interrupted by the Jupyter kernel."
     ]
    }
   ]
  },
  {
   "cell_type": "markdown",
   "source": "<a style='text-decoration:none;line-height:16px;display:flex;color:#5B5B62;padding:10px;justify-content:end;' href='https://deepnote.com?utm_source=created-in-deepnote-cell&projectId=18990445-f6e7-4d8c-9e5b-73c061f7343e' target=\"_blank\">\n<img alt='Created in deepnote.com' style='display:inline;max-height:16px;margin:0px;margin-right:7.5px;' src='data:image/svg+xml;base64,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' > </img>\nCreated in <span style='font-weight:600;margin-left:4px;'>Deepnote</span></a>",
   "metadata": {
    "tags": [],
    "created_in_deepnote_cell": true,
    "deepnote_cell_type": "markdown"
   }
  }
 ],
 "nbformat": 4,
 "nbformat_minor": 2,
 "metadata": {
  "orig_nbformat": 2,
  "deepnote": {},
  "deepnote_notebook_id": "774c2c6a-af30-4322-8d91-de4b249858e7",
  "deepnote_execution_queue": []
 }
}